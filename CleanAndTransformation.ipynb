{
 "cells": [
  {
   "cell_type": "code",
   "execution_count": 46,
   "id": "c5bf363e-0b97-4e64-835a-40e5484d63c8",
   "metadata": {},
   "outputs": [],
   "source": [
    "import pandas as pd\n",
    "df_data_historica = pd.read_csv(\"fifa_cupAmerican.csv\")\n",
    "df_fixture = pd.read_csv(\"fifa_cupAmerican_fixture.csv\")\n",
    "df_faltante = pd.read_csv(\"fifa_cupAmerica_faltante.csv\")"
   ]
  },
  {
   "cell_type": "code",
   "execution_count": null,
   "id": "836f6b85-0328-4d39-8dfa-a5ecbeffd2d2",
   "metadata": {},
   "outputs": [],
   "source": [
    "#LIMPIEZA DEL FIXTURE"
   ]
  },
  {
   "cell_type": "code",
   "execution_count": 47,
   "id": "d113d9a6-f5e6-4bf6-b94f-5012e4b960c4",
   "metadata": {},
   "outputs": [],
   "source": [
    "df_fixture[\"home\"] =df_fixture[\"home\"].str.strip()\n",
    "df_fixture[\"away\"]= df_fixture[\"away\"].str.strip()"
   ]
  },
  {
   "cell_type": "code",
   "execution_count": 19,
   "id": "b0b459e9-f500-4266-af7c-16022194e7f7",
   "metadata": {},
   "outputs": [],
   "source": [
    "#LIMPIEZA DE LA DATA HISTÓRICA Y FALTANTE ()"
   ]
  },
  {
   "cell_type": "code",
   "execution_count": 81,
   "id": "cc026b88-6072-49ea-adf2-ee2b2572bab3",
   "metadata": {
    "scrolled": true
   },
   "outputs": [
    {
     "data": {
      "text/html": [
       "<div>\n",
       "<style scoped>\n",
       "    .dataframe tbody tr th:only-of-type {\n",
       "        vertical-align: middle;\n",
       "    }\n",
       "\n",
       "    .dataframe tbody tr th {\n",
       "        vertical-align: top;\n",
       "    }\n",
       "\n",
       "    .dataframe thead th {\n",
       "        text-align: right;\n",
       "    }\n",
       "</style>\n",
       "<table border=\"1\" class=\"dataframe\">\n",
       "  <thead>\n",
       "    <tr style=\"text-align: right;\">\n",
       "      <th></th>\n",
       "      <th>home</th>\n",
       "      <th>score</th>\n",
       "      <th>away</th>\n",
       "      <th>year</th>\n",
       "    </tr>\n",
       "  </thead>\n",
       "  <tbody>\n",
       "    <tr>\n",
       "      <th>478</th>\n",
       "      <td>Argentina</td>\n",
       "      <td>0–0</td>\n",
       "      <td>Paraguay</td>\n",
       "      <td>1924</td>\n",
       "    </tr>\n",
       "    <tr>\n",
       "      <th>479</th>\n",
       "      <td>Uruguay</td>\n",
       "      <td>5–0</td>\n",
       "      <td>Chile</td>\n",
       "      <td>1924</td>\n",
       "    </tr>\n",
       "    <tr>\n",
       "      <th>480</th>\n",
       "      <td>Argentina</td>\n",
       "      <td>2–0</td>\n",
       "      <td>Chile</td>\n",
       "      <td>1924</td>\n",
       "    </tr>\n",
       "    <tr>\n",
       "      <th>481</th>\n",
       "      <td>Uruguay</td>\n",
       "      <td>3–1</td>\n",
       "      <td>Paraguay</td>\n",
       "      <td>1924</td>\n",
       "    </tr>\n",
       "    <tr>\n",
       "      <th>482</th>\n",
       "      <td>Paraguay</td>\n",
       "      <td>3–1</td>\n",
       "      <td>Chile</td>\n",
       "      <td>1924</td>\n",
       "    </tr>\n",
       "    <tr>\n",
       "      <th>...</th>\n",
       "      <td>...</td>\n",
       "      <td>...</td>\n",
       "      <td>...</td>\n",
       "      <td>...</td>\n",
       "    </tr>\n",
       "    <tr>\n",
       "      <th>475</th>\n",
       "      <td>Argentina</td>\n",
       "      <td>1–1</td>\n",
       "      <td>Colombia</td>\n",
       "      <td>2021</td>\n",
       "    </tr>\n",
       "    <tr>\n",
       "      <th>476</th>\n",
       "      <td>Colombia</td>\n",
       "      <td>3–2</td>\n",
       "      <td>Peru</td>\n",
       "      <td>2021</td>\n",
       "    </tr>\n",
       "    <tr>\n",
       "      <th>477</th>\n",
       "      <td>Argentina</td>\n",
       "      <td>1–0</td>\n",
       "      <td>Brazil</td>\n",
       "      <td>2021</td>\n",
       "    </tr>\n",
       "    <tr>\n",
       "      <th>463</th>\n",
       "      <td>Brazil</td>\n",
       "      <td>4–0</td>\n",
       "      <td>Peru</td>\n",
       "      <td>2021</td>\n",
       "    </tr>\n",
       "    <tr>\n",
       "      <th>462</th>\n",
       "      <td>Colombia</td>\n",
       "      <td>0–0</td>\n",
       "      <td>Venezuela</td>\n",
       "      <td>2021</td>\n",
       "    </tr>\n",
       "  </tbody>\n",
       "</table>\n",
       "<p>523 rows × 4 columns</p>\n",
       "</div>"
      ],
      "text/plain": [
       "           home score        away  year\n",
       "478  Argentina    0–0    Paraguay  1924\n",
       "479    Uruguay    5–0       Chile  1924\n",
       "480  Argentina    2–0       Chile  1924\n",
       "481    Uruguay    3–1    Paraguay  1924\n",
       "482   Paraguay    3–1       Chile  1924\n",
       "..          ...   ...         ...   ...\n",
       "475  Argentina    1–1    Colombia  2021\n",
       "476   Colombia    3–2        Peru  2021\n",
       "477  Argentina    1–0      Brazil  2021\n",
       "463     Brazil    4–0        Peru  2021\n",
       "462   Colombia    0–0   Venezuela  2021\n",
       "\n",
       "[523 rows x 4 columns]"
      ]
     },
     "execution_count": 81,
     "metadata": {},
     "output_type": "execute_result"
    }
   ],
   "source": [
    "#df_faltante[df_faltante[\"away\"].isnull()]\n",
    "#df_historica[df_historica[\"away\"].isnull()]\n",
    "\n",
    "#Está limpia de espacios en blancos\n",
    "\n",
    "#Uniendo ambas datas\n",
    "df_data_total = pd.concat([df_faltante,df_data_historica], ignore_index=True)\n",
    "#eliminando duplicados\n",
    "df_data_total.drop_duplicates(inplace=True)\n",
    "#ordenando basada en la columnda deseada\n",
    "df_data_total.sort_values(\"year\",inplace=True)\n",
    "df_data_total"
   ]
  },
  {
   "cell_type": "code",
   "execution_count": 49,
   "id": "1a398dce-b48e-42f1-9727-07c87bc2cfcf",
   "metadata": {},
   "outputs": [],
   "source": [
    "#Limpieza de la data total\n"
   ]
  },
  {
   "cell_type": "code",
   "execution_count": 101,
   "id": "c56de2eb-924b-4187-a261-b1c0c7de9a68",
   "metadata": {},
   "outputs": [],
   "source": [
    "#Hay un problema, en la columna 'score' no es el guion estándar (U+002D), sino un guion en dash (U+2013)\n",
    "#Para solucionar este problema y buscar correctamente los caracteres que no son dígitos ni guiones estándar\n",
    "#primero se reemplaza el guion en dash con un guion estándar. Aquí está el código:\n",
    "\n",
    "df_data_total['score'] = df_data_total['score'].str.replace('\\u2013', '-', regex=False)"
   ]
  },
  {
   "cell_type": "code",
   "execution_count": 103,
   "id": "67bfb71a-1632-4a07-a028-fcb3bf827219",
   "metadata": {},
   "outputs": [
    {
     "data": {
      "text/html": [
       "<div>\n",
       "<style scoped>\n",
       "    .dataframe tbody tr th:only-of-type {\n",
       "        vertical-align: middle;\n",
       "    }\n",
       "\n",
       "    .dataframe tbody tr th {\n",
       "        vertical-align: top;\n",
       "    }\n",
       "\n",
       "    .dataframe thead th {\n",
       "        text-align: right;\n",
       "    }\n",
       "</style>\n",
       "<table border=\"1\" class=\"dataframe\">\n",
       "  <thead>\n",
       "    <tr style=\"text-align: right;\">\n",
       "      <th></th>\n",
       "      <th>home</th>\n",
       "      <th>score</th>\n",
       "      <th>away</th>\n",
       "      <th>year</th>\n",
       "    </tr>\n",
       "  </thead>\n",
       "  <tbody>\n",
       "    <tr>\n",
       "      <th>104</th>\n",
       "      <td>Paraguay</td>\n",
       "      <td>0-0 (a.e.t.)</td>\n",
       "      <td>Chile</td>\n",
       "      <td>1979</td>\n",
       "    </tr>\n",
       "    <tr>\n",
       "      <th>138</th>\n",
       "      <td>Chile</td>\n",
       "      <td>2-1 (a.e.t.)</td>\n",
       "      <td>Colombia</td>\n",
       "      <td>1987</td>\n",
       "    </tr>\n",
       "    <tr>\n",
       "      <th>283</th>\n",
       "      <td>Brazil</td>\n",
       "      <td>1-0[note 1]</td>\n",
       "      <td>Chile</td>\n",
       "      <td>1999</td>\n",
       "    </tr>\n",
       "    <tr>\n",
       "      <th>376</th>\n",
       "      <td>Colombia</td>\n",
       "      <td>0-2 (a.e.t.)</td>\n",
       "      <td>Peru</td>\n",
       "      <td>2011</td>\n",
       "    </tr>\n",
       "    <tr>\n",
       "      <th>377</th>\n",
       "      <td>Argentina</td>\n",
       "      <td>1-1 (a.e.t.)</td>\n",
       "      <td>Uruguay</td>\n",
       "      <td>2011</td>\n",
       "    </tr>\n",
       "    <tr>\n",
       "      <th>378</th>\n",
       "      <td>Brazil</td>\n",
       "      <td>0-0 (a.e.t.)</td>\n",
       "      <td>Paraguay</td>\n",
       "      <td>2011</td>\n",
       "    </tr>\n",
       "    <tr>\n",
       "      <th>381</th>\n",
       "      <td>Paraguay</td>\n",
       "      <td>0-0 (a.e.t.)</td>\n",
       "      <td>Venezuela</td>\n",
       "      <td>2011</td>\n",
       "    </tr>\n",
       "  </tbody>\n",
       "</table>\n",
       "</div>"
      ],
      "text/plain": [
       "           home         score        away  year\n",
       "104   Paraguay   0-0 (a.e.t.)       Chile  1979\n",
       "138      Chile   2-1 (a.e.t.)    Colombia  1987\n",
       "283     Brazil    1-0[note 1]       Chile  1999\n",
       "376   Colombia   0-2 (a.e.t.)        Peru  2011\n",
       "377  Argentina   1-1 (a.e.t.)     Uruguay  2011\n",
       "378     Brazil   0-0 (a.e.t.)    Paraguay  2011\n",
       "381   Paraguay   0-0 (a.e.t.)   Venezuela  2011"
      ]
     },
     "execution_count": 103,
     "metadata": {},
     "output_type": "execute_result"
    }
   ],
   "source": [
    "resultados = df_data_total[df_data_total['score'].str.contains('[^\\d-]')]\n",
    "resultados"
   ]
  },
  {
   "cell_type": "code",
   "execution_count": 105,
   "id": "3bd220fd-0157-4470-a347-db44f39671c8",
   "metadata": {},
   "outputs": [],
   "source": [
    "#Limpieza de los caracteres en la columna score par que sea dígito raya dígito\n",
    "df_data_total['score'] = df_data_total['score'].str.replace('[^\\d-]', '', regex=True)"
   ]
  },
  {
   "cell_type": "code",
   "execution_count": 108,
   "id": "a8f589e6-ef0b-4bfc-a642-757e2d477484",
   "metadata": {},
   "outputs": [],
   "source": [
    "#Limpiando espacios en blanco o vacíos\n",
    "df_data_total[\"home\"] =df_data_total[\"home\"].str.strip()\n",
    "df_data_total[\"away\"]= df_data_total[\"away\"].str.strip()"
   ]
  },
  {
   "cell_type": "code",
   "execution_count": 113,
   "id": "222e54b1-5302-47cb-b88b-d53051bc8144",
   "metadata": {},
   "outputs": [],
   "source": [
    "df_data_total[[\"HomeGoals\",\"AwayGoals\"]] = df_data_total['score'].str.split(\"-\", expand=True)"
   ]
  },
  {
   "cell_type": "code",
   "execution_count": 115,
   "id": "f2b5ec19-e767-4e97-a21d-27900f6e0583",
   "metadata": {},
   "outputs": [],
   "source": [
    "#Eliminando la tabla score \n",
    "df_data_total.drop(\"score\", axis=1, inplace=True)"
   ]
  },
  {
   "cell_type": "code",
   "execution_count": 119,
   "id": "0d60a57e-d330-410d-83e9-d99e5a3c3590",
   "metadata": {},
   "outputs": [],
   "source": [
    "#Renombrando columnas\n",
    "df_data_total.rename(columns={\"home\":\"HomeTeam\",\"away\":\"AwayTeam\",\"year\":\"Year\"}, inplace=True)"
   ]
  },
  {
   "cell_type": "code",
   "execution_count": 123,
   "id": "b9a021ce-d690-4ef6-a45e-71a9d4690965",
   "metadata": {},
   "outputs": [
    {
     "data": {
      "text/plain": [
       "HomeTeam     object\n",
       "AwayTeam     object\n",
       "Year          int32\n",
       "HomeGoals     int32\n",
       "AwayGoals     int32\n",
       "dtype: object"
      ]
     },
     "execution_count": 123,
     "metadata": {},
     "output_type": "execute_result"
    }
   ],
   "source": [
    "#TRANFORMACIÓN DE DATOS\n",
    "df_data_total = df_data_total.astype({\"HomeGoals\":int, \"AwayGoals\": int, \"Year\": int})"
   ]
  },
  {
   "cell_type": "code",
   "execution_count": 124,
   "id": "b2657070-388e-40d5-a99a-efaf4d34461d",
   "metadata": {},
   "outputs": [],
   "source": [
    "df_data_total[\"TotalGoals\"] = df_data_total[\"HomeGoals\"] + df_data_total[\"AwayGoals\"]"
   ]
  },
  {
   "cell_type": "code",
   "execution_count": null,
   "id": "a0c22b97-d1be-41d7-8e20-6c4d5857be38",
   "metadata": {},
   "outputs": [],
   "source": [
    "#EXPORTACIÓN DE DATOS A FORMATO CSV\n"
   ]
  },
  {
   "cell_type": "code",
   "execution_count": 127,
   "id": "962894c8-ed25-4739-9369-b55261f733b3",
   "metadata": {},
   "outputs": [],
   "source": [
    "df_data_total.to_csv(\"Clean_CupAmerica.csv\", index=False)\n",
    "df_fixture.to_csv(\"Clean_Fixture_CupAmerica.csv\", index=False)"
   ]
  },
  {
   "cell_type": "code",
   "execution_count": null,
   "id": "b681ba4e-71fe-4332-9eb9-174f93b768ec",
   "metadata": {},
   "outputs": [],
   "source": []
  }
 ],
 "metadata": {
  "kernelspec": {
   "display_name": "Python 3 (ipykernel)",
   "language": "python",
   "name": "python3"
  },
  "language_info": {
   "codemirror_mode": {
    "name": "ipython",
    "version": 3
   },
   "file_extension": ".py",
   "mimetype": "text/x-python",
   "name": "python",
   "nbconvert_exporter": "python",
   "pygments_lexer": "ipython3",
   "version": "3.11.7"
  }
 },
 "nbformat": 4,
 "nbformat_minor": 5
}
