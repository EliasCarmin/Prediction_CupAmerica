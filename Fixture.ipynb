{
 "cells": [
  {
   "cell_type": "code",
   "execution_count": 76,
   "id": "4043405c-2c69-4412-87a0-593fe7bd5a3f",
   "metadata": {},
   "outputs": [],
   "source": [
    "import pandas as pd\n",
    "from string import ascii_uppercase as alfabeto\n",
    "import pickle"
   ]
  },
  {
   "cell_type": "code",
   "execution_count": 8,
   "id": "ac2a9dac-cce1-4bdf-a1da-530f7fa6d2b6",
   "metadata": {},
   "outputs": [
    {
     "name": "stdout",
     "output_type": "stream",
     "text": [
      "Se encontraron 48 tablas.\n"
     ]
    }
   ],
   "source": [
    "urñ = \"https://es.wikipedia.org/wiki/Copa_Am%C3%A9rica_2024\"\n",
    "todas_tablas = pd.read_html(url)\n",
    "print(f\"Se encontraron {len(todas_tablas)} tablas.\")"
   ]
  },
  {
   "cell_type": "code",
   "execution_count": 21,
   "id": "ea146dbd-477c-4fea-a73b-db3962571941",
   "metadata": {},
   "outputs": [
    {
     "data": {
      "text/html": [
       "<div>\n",
       "<style scoped>\n",
       "    .dataframe tbody tr th:only-of-type {\n",
       "        vertical-align: middle;\n",
       "    }\n",
       "\n",
       "    .dataframe tbody tr th {\n",
       "        vertical-align: top;\n",
       "    }\n",
       "\n",
       "    .dataframe thead th {\n",
       "        text-align: right;\n",
       "    }\n",
       "</style>\n",
       "<table border=\"1\" class=\"dataframe\">\n",
       "  <thead>\n",
       "    <tr style=\"text-align: right;\">\n",
       "      <th></th>\n",
       "      <th>Equipo</th>\n",
       "      <th>Pts.</th>\n",
       "      <th>PJ</th>\n",
       "      <th>PG</th>\n",
       "      <th>PE</th>\n",
       "      <th>PP</th>\n",
       "      <th>GF</th>\n",
       "      <th>GC</th>\n",
       "      <th>Dif.</th>\n",
       "    </tr>\n",
       "  </thead>\n",
       "  <tbody>\n",
       "    <tr>\n",
       "      <th>0</th>\n",
       "      <td>Brasil</td>\n",
       "      <td>0</td>\n",
       "      <td>0</td>\n",
       "      <td>0</td>\n",
       "      <td>0</td>\n",
       "      <td>0</td>\n",
       "      <td>0</td>\n",
       "      <td>0</td>\n",
       "      <td>0</td>\n",
       "    </tr>\n",
       "    <tr>\n",
       "      <th>1</th>\n",
       "      <td>Colombia</td>\n",
       "      <td>0</td>\n",
       "      <td>0</td>\n",
       "      <td>0</td>\n",
       "      <td>0</td>\n",
       "      <td>0</td>\n",
       "      <td>0</td>\n",
       "      <td>0</td>\n",
       "      <td>0</td>\n",
       "    </tr>\n",
       "    <tr>\n",
       "      <th>2</th>\n",
       "      <td>Paraguay</td>\n",
       "      <td>0</td>\n",
       "      <td>0</td>\n",
       "      <td>0</td>\n",
       "      <td>0</td>\n",
       "      <td>0</td>\n",
       "      <td>0</td>\n",
       "      <td>0</td>\n",
       "      <td>0</td>\n",
       "    </tr>\n",
       "    <tr>\n",
       "      <th>3</th>\n",
       "      <td>Costa Rica</td>\n",
       "      <td>0</td>\n",
       "      <td>0</td>\n",
       "      <td>0</td>\n",
       "      <td>0</td>\n",
       "      <td>0</td>\n",
       "      <td>0</td>\n",
       "      <td>0</td>\n",
       "      <td>0</td>\n",
       "    </tr>\n",
       "  </tbody>\n",
       "</table>\n",
       "</div>"
      ],
      "text/plain": [
       "       Equipo  Pts.  PJ  PG  PE  PP  GF  GC  Dif.\n",
       "0      Brasil     0   0   0   0   0   0   0     0\n",
       "1    Colombia     0   0   0   0   0   0   0     0\n",
       "2    Paraguay     0   0   0   0   0   0   0     0\n",
       "3  Costa Rica     0   0   0   0   0   0   0     0"
      ]
     },
     "execution_count": 21,
     "metadata": {},
     "output_type": "execute_result"
    }
   ],
   "source": [
    "# tablas A, B, C y D\n",
    "# Posición de las tablas en 7 \n",
    "todas_tablas[6]\n",
    "todas_tablas[13]\n",
    "todas_tablas[20]\n",
    "todas_tablas[27]"
   ]
  },
  {
   "cell_type": "code",
   "execution_count": 64,
   "id": "b65a966d-0f97-4fc1-80f3-b2ad93ab3418",
   "metadata": {},
   "outputs": [
    {
     "name": "stdout",
     "output_type": "stream",
     "text": [
      "A 6\n",
      "B 13\n",
      "C 20\n",
      "D 27\n"
     ]
    }
   ],
   "source": [
    "for letra, i in zip(alfabeto, range(6, min(34, num_tablas), 7)):\n",
    "\tprint(letra, i)"
   ]
  },
  {
   "cell_type": "code",
   "execution_count": 72,
   "id": "bd86bdd6-d8a5-4e0f-81f7-f856e51671b4",
   "metadata": {},
   "outputs": [],
   "source": [
    "todas_tablas = pd.read_html(\"https://es.wikipedia.org/wiki/Copa_Am%C3%A9rica_2024\")\n",
    "\n",
    "dict_tablas = {}\n",
    "for letra, i in zip(alfabeto, range(6, min(34, num_tablas), 7)):  # Asegurarse de no ir fuera del rango de las tablas encontradas\n",
    "        df = todas_tablas[i]\n",
    "        df.rename(columns={df.columns[0] : \"País\"}, inplace=True)\n",
    "        dict_tablas[f\"Grupo {letra}\"]= df"
   ]
  },
  {
   "cell_type": "code",
   "execution_count": 74,
   "id": "8541dcdd-1446-4fbb-ac5b-c3d1d741f501",
   "metadata": {},
   "outputs": [
    {
     "data": {
      "text/plain": [
       "dict_keys(['Grupo A', 'Grupo B', 'Grupo C', 'Grupo D'])"
      ]
     },
     "execution_count": 74,
     "metadata": {},
     "output_type": "execute_result"
    }
   ],
   "source": [
    "dict_tablas.keys()"
   ]
  },
  {
   "cell_type": "code",
   "execution_count": 75,
   "id": "be973017-7d5a-4c16-8549-c3ef262bfd0b",
   "metadata": {},
   "outputs": [
    {
     "data": {
      "text/html": [
       "<div>\n",
       "<style scoped>\n",
       "    .dataframe tbody tr th:only-of-type {\n",
       "        vertical-align: middle;\n",
       "    }\n",
       "\n",
       "    .dataframe tbody tr th {\n",
       "        vertical-align: top;\n",
       "    }\n",
       "\n",
       "    .dataframe thead th {\n",
       "        text-align: right;\n",
       "    }\n",
       "</style>\n",
       "<table border=\"1\" class=\"dataframe\">\n",
       "  <thead>\n",
       "    <tr style=\"text-align: right;\">\n",
       "      <th></th>\n",
       "      <th>País</th>\n",
       "      <th>Pts.</th>\n",
       "      <th>PJ</th>\n",
       "      <th>PG</th>\n",
       "      <th>PE</th>\n",
       "      <th>PP</th>\n",
       "      <th>GF</th>\n",
       "      <th>GC</th>\n",
       "      <th>Dif.</th>\n",
       "    </tr>\n",
       "  </thead>\n",
       "  <tbody>\n",
       "    <tr>\n",
       "      <th>0</th>\n",
       "      <td>Estados Unidos</td>\n",
       "      <td>0</td>\n",
       "      <td>0</td>\n",
       "      <td>0</td>\n",
       "      <td>0</td>\n",
       "      <td>0</td>\n",
       "      <td>0</td>\n",
       "      <td>0</td>\n",
       "      <td>0</td>\n",
       "    </tr>\n",
       "    <tr>\n",
       "      <th>1</th>\n",
       "      <td>Uruguay</td>\n",
       "      <td>0</td>\n",
       "      <td>0</td>\n",
       "      <td>0</td>\n",
       "      <td>0</td>\n",
       "      <td>0</td>\n",
       "      <td>0</td>\n",
       "      <td>0</td>\n",
       "      <td>0</td>\n",
       "    </tr>\n",
       "    <tr>\n",
       "      <th>2</th>\n",
       "      <td>Panamá</td>\n",
       "      <td>0</td>\n",
       "      <td>0</td>\n",
       "      <td>0</td>\n",
       "      <td>0</td>\n",
       "      <td>0</td>\n",
       "      <td>0</td>\n",
       "      <td>0</td>\n",
       "      <td>0</td>\n",
       "    </tr>\n",
       "    <tr>\n",
       "      <th>3</th>\n",
       "      <td>Bolivia</td>\n",
       "      <td>0</td>\n",
       "      <td>0</td>\n",
       "      <td>0</td>\n",
       "      <td>0</td>\n",
       "      <td>0</td>\n",
       "      <td>0</td>\n",
       "      <td>0</td>\n",
       "      <td>0</td>\n",
       "    </tr>\n",
       "  </tbody>\n",
       "</table>\n",
       "</div>"
      ],
      "text/plain": [
       "             País  Pts.  PJ  PG  PE  PP  GF  GC  Dif.\n",
       "0  Estados Unidos     0   0   0   0   0   0   0     0\n",
       "1         Uruguay     0   0   0   0   0   0   0     0\n",
       "2          Panamá     0   0   0   0   0   0   0     0\n",
       "3         Bolivia     0   0   0   0   0   0   0     0"
      ]
     },
     "execution_count": 75,
     "metadata": {},
     "output_type": "execute_result"
    }
   ],
   "source": [
    "dict_tablas[\"Grupo C\"]"
   ]
  },
  {
   "cell_type": "code",
   "execution_count": 77,
   "id": "63ce703b-6860-4a90-8d65-f2a077ce2582",
   "metadata": {},
   "outputs": [],
   "source": [
    "with open(\"dict_table\", \"wb\") as output:\n",
    "\tpickle.dump(dict_tablas, output)"
   ]
  },
  {
   "cell_type": "code",
   "execution_count": null,
   "id": "44f7b61c-e987-4df2-a20b-bc1f59cd8753",
   "metadata": {},
   "outputs": [],
   "source": []
  }
 ],
 "metadata": {
  "kernelspec": {
   "display_name": "Python 3 (ipykernel)",
   "language": "python",
   "name": "python3"
  },
  "language_info": {
   "codemirror_mode": {
    "name": "ipython",
    "version": 3
   },
   "file_extension": ".py",
   "mimetype": "text/x-python",
   "name": "python",
   "nbconvert_exporter": "python",
   "pygments_lexer": "ipython3",
   "version": "3.11.7"
  }
 },
 "nbformat": 4,
 "nbformat_minor": 5
}
