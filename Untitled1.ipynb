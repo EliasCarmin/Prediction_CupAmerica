{
 "cells": [
  {
   "cell_type": "code",
   "execution_count": 1,
   "id": "29f9f360-ff96-4640-964c-47ff81c36258",
   "metadata": {},
   "outputs": [],
   "source": [
    "import pandas as pd\n",
    "import pickle\n",
    "from scipy.stats import poisson"
   ]
  },
  {
   "cell_type": "code",
   "execution_count": 2,
   "id": "62d09423-e8b1-4459-a8e8-718a588bd2c7",
   "metadata": {},
   "outputs": [],
   "source": [
    "dict_table = pickle.load(open(\"dict_table\",\"rb\"))\n",
    "df_historica_data = pd.read_csv(\"Clean_CupAmerica.csv\")\n",
    "df_fixture = pd.read_csv(\"Clean_Fixture_CupAmerica.csv\")"
   ]
  },
  {
   "cell_type": "code",
   "execution_count": 3,
   "id": "315129f0-0d6c-4061-8cc3-65003e45ed39",
   "metadata": {},
   "outputs": [
    {
     "data": {
      "text/html": [
       "<div>\n",
       "<style scoped>\n",
       "    .dataframe tbody tr th:only-of-type {\n",
       "        vertical-align: middle;\n",
       "    }\n",
       "\n",
       "    .dataframe tbody tr th {\n",
       "        vertical-align: top;\n",
       "    }\n",
       "\n",
       "    .dataframe thead th {\n",
       "        text-align: right;\n",
       "    }\n",
       "</style>\n",
       "<table border=\"1\" class=\"dataframe\">\n",
       "  <thead>\n",
       "    <tr style=\"text-align: right;\">\n",
       "      <th></th>\n",
       "      <th>HomeTeam</th>\n",
       "      <th>AwayTeam</th>\n",
       "      <th>Year</th>\n",
       "      <th>HomeGoals</th>\n",
       "      <th>AwayGoals</th>\n",
       "      <th>TotalGoals</th>\n",
       "    </tr>\n",
       "  </thead>\n",
       "  <tbody>\n",
       "    <tr>\n",
       "      <th>0</th>\n",
       "      <td>Argentina</td>\n",
       "      <td>Paraguay</td>\n",
       "      <td>1924</td>\n",
       "      <td>0</td>\n",
       "      <td>0</td>\n",
       "      <td>0</td>\n",
       "    </tr>\n",
       "    <tr>\n",
       "      <th>1</th>\n",
       "      <td>Uruguay</td>\n",
       "      <td>Chile</td>\n",
       "      <td>1924</td>\n",
       "      <td>5</td>\n",
       "      <td>0</td>\n",
       "      <td>5</td>\n",
       "    </tr>\n",
       "    <tr>\n",
       "      <th>2</th>\n",
       "      <td>Argentina</td>\n",
       "      <td>Chile</td>\n",
       "      <td>1924</td>\n",
       "      <td>2</td>\n",
       "      <td>0</td>\n",
       "      <td>2</td>\n",
       "    </tr>\n",
       "    <tr>\n",
       "      <th>3</th>\n",
       "      <td>Uruguay</td>\n",
       "      <td>Paraguay</td>\n",
       "      <td>1924</td>\n",
       "      <td>3</td>\n",
       "      <td>1</td>\n",
       "      <td>4</td>\n",
       "    </tr>\n",
       "    <tr>\n",
       "      <th>4</th>\n",
       "      <td>Paraguay</td>\n",
       "      <td>Chile</td>\n",
       "      <td>1924</td>\n",
       "      <td>3</td>\n",
       "      <td>1</td>\n",
       "      <td>4</td>\n",
       "    </tr>\n",
       "    <tr>\n",
       "      <th>...</th>\n",
       "      <td>...</td>\n",
       "      <td>...</td>\n",
       "      <td>...</td>\n",
       "      <td>...</td>\n",
       "      <td>...</td>\n",
       "      <td>...</td>\n",
       "    </tr>\n",
       "    <tr>\n",
       "      <th>518</th>\n",
       "      <td>Argentina</td>\n",
       "      <td>Colombia</td>\n",
       "      <td>2021</td>\n",
       "      <td>1</td>\n",
       "      <td>1</td>\n",
       "      <td>2</td>\n",
       "    </tr>\n",
       "    <tr>\n",
       "      <th>519</th>\n",
       "      <td>Colombia</td>\n",
       "      <td>Peru</td>\n",
       "      <td>2021</td>\n",
       "      <td>3</td>\n",
       "      <td>2</td>\n",
       "      <td>5</td>\n",
       "    </tr>\n",
       "    <tr>\n",
       "      <th>520</th>\n",
       "      <td>Argentina</td>\n",
       "      <td>Brazil</td>\n",
       "      <td>2021</td>\n",
       "      <td>1</td>\n",
       "      <td>0</td>\n",
       "      <td>1</td>\n",
       "    </tr>\n",
       "    <tr>\n",
       "      <th>521</th>\n",
       "      <td>Brazil</td>\n",
       "      <td>Peru</td>\n",
       "      <td>2021</td>\n",
       "      <td>4</td>\n",
       "      <td>0</td>\n",
       "      <td>4</td>\n",
       "    </tr>\n",
       "    <tr>\n",
       "      <th>522</th>\n",
       "      <td>Colombia</td>\n",
       "      <td>Venezuela</td>\n",
       "      <td>2021</td>\n",
       "      <td>0</td>\n",
       "      <td>0</td>\n",
       "      <td>0</td>\n",
       "    </tr>\n",
       "  </tbody>\n",
       "</table>\n",
       "<p>523 rows × 6 columns</p>\n",
       "</div>"
      ],
      "text/plain": [
       "      HomeTeam   AwayTeam  Year  HomeGoals  AwayGoals  TotalGoals\n",
       "0    Argentina   Paraguay  1924          0          0           0\n",
       "1      Uruguay      Chile  1924          5          0           5\n",
       "2    Argentina      Chile  1924          2          0           2\n",
       "3      Uruguay   Paraguay  1924          3          1           4\n",
       "4     Paraguay      Chile  1924          3          1           4\n",
       "..         ...        ...   ...        ...        ...         ...\n",
       "518  Argentina   Colombia  2021          1          1           2\n",
       "519   Colombia       Peru  2021          3          2           5\n",
       "520  Argentina     Brazil  2021          1          0           1\n",
       "521     Brazil       Peru  2021          4          0           4\n",
       "522   Colombia  Venezuela  2021          0          0           0\n",
       "\n",
       "[523 rows x 6 columns]"
      ]
     },
     "execution_count": 3,
     "metadata": {},
     "output_type": "execute_result"
    }
   ],
   "source": [
    "#CALCULAR TEAM STRENGTH: \n",
    "df_historica_data"
   ]
  },
  {
   "cell_type": "code",
   "execution_count": 4,
   "id": "d9804b32-134c-4971-b8f7-8c9d99d1a9a0",
   "metadata": {},
   "outputs": [],
   "source": [
    "#Poderío de una selección en los goles\n",
    "df_home = df_historica_data[[\"HomeTeam\",\"HomeGoals\", \"AwayGoals\"]]\n",
    "df_away = df_historica_data[[\"AwayTeam\",\"HomeGoals\", \"AwayGoals\"]]\n"
   ]
  },
  {
   "cell_type": "code",
   "execution_count": 5,
   "id": "a9af0485-df89-4a41-b1f0-376a00d71200",
   "metadata": {},
   "outputs": [],
   "source": [
    "#Reconmbrar columnas\n",
    "df_home = df_home.rename(columns={\"HomeTeam\":\"Team\",\"HomeGoals\": \"ScoredGoals\",\"AwayGoals\":\"GoalsConceded\"})\n",
    "df_away = df_away.rename(columns={\"AwayTeam\":\"Team\",\"HomeGoals\": \"GoalsConceded\",\"AwayGoals\":\"ScoredGoals\"})\n"
   ]
  },
  {
   "cell_type": "code",
   "execution_count": 6,
   "id": "b4f1881f-d5f1-441f-b36f-df8127123975",
   "metadata": {},
   "outputs": [
    {
     "data": {
      "text/html": [
       "<div>\n",
       "<style scoped>\n",
       "    .dataframe tbody tr th:only-of-type {\n",
       "        vertical-align: middle;\n",
       "    }\n",
       "\n",
       "    .dataframe tbody tr th {\n",
       "        vertical-align: top;\n",
       "    }\n",
       "\n",
       "    .dataframe thead th {\n",
       "        text-align: right;\n",
       "    }\n",
       "</style>\n",
       "<table border=\"1\" class=\"dataframe\">\n",
       "  <thead>\n",
       "    <tr style=\"text-align: right;\">\n",
       "      <th></th>\n",
       "      <th>ScoredGoals</th>\n",
       "      <th>GoalsConceded</th>\n",
       "    </tr>\n",
       "    <tr>\n",
       "      <th>Team</th>\n",
       "      <th></th>\n",
       "      <th></th>\n",
       "    </tr>\n",
       "  </thead>\n",
       "  <tbody>\n",
       "    <tr>\n",
       "      <th>Argentina</th>\n",
       "      <td>1.861386</td>\n",
       "      <td>0.801980</td>\n",
       "    </tr>\n",
       "    <tr>\n",
       "      <th>Bolivia</th>\n",
       "      <td>0.787500</td>\n",
       "      <td>2.100000</td>\n",
       "    </tr>\n",
       "    <tr>\n",
       "      <th>Brazil</th>\n",
       "      <td>2.254717</td>\n",
       "      <td>0.754717</td>\n",
       "    </tr>\n",
       "    <tr>\n",
       "      <th>Chile</th>\n",
       "      <td>1.547170</td>\n",
       "      <td>1.273585</td>\n",
       "    </tr>\n",
       "    <tr>\n",
       "      <th>Colombia</th>\n",
       "      <td>1.138614</td>\n",
       "      <td>1.069307</td>\n",
       "    </tr>\n",
       "    <tr>\n",
       "      <th>Costa Rica</th>\n",
       "      <td>1.000000</td>\n",
       "      <td>1.823529</td>\n",
       "    </tr>\n",
       "    <tr>\n",
       "      <th>Ecuador</th>\n",
       "      <td>1.148649</td>\n",
       "      <td>1.797297</td>\n",
       "    </tr>\n",
       "    <tr>\n",
       "      <th>Haiti</th>\n",
       "      <td>0.333333</td>\n",
       "      <td>4.000000</td>\n",
       "    </tr>\n",
       "    <tr>\n",
       "      <th>Honduras</th>\n",
       "      <td>1.166667</td>\n",
       "      <td>0.833333</td>\n",
       "    </tr>\n",
       "    <tr>\n",
       "      <th>Jamaica</th>\n",
       "      <td>0.000000</td>\n",
       "      <td>1.500000</td>\n",
       "    </tr>\n",
       "    <tr>\n",
       "      <th>Japan</th>\n",
       "      <td>1.000000</td>\n",
       "      <td>2.500000</td>\n",
       "    </tr>\n",
       "    <tr>\n",
       "      <th>Mexico</th>\n",
       "      <td>1.375000</td>\n",
       "      <td>1.291667</td>\n",
       "    </tr>\n",
       "    <tr>\n",
       "      <th>Panama</th>\n",
       "      <td>1.333333</td>\n",
       "      <td>3.333333</td>\n",
       "    </tr>\n",
       "    <tr>\n",
       "      <th>Paraguay</th>\n",
       "      <td>1.366337</td>\n",
       "      <td>1.554455</td>\n",
       "    </tr>\n",
       "    <tr>\n",
       "      <th>Peru</th>\n",
       "      <td>1.391304</td>\n",
       "      <td>1.413043</td>\n",
       "    </tr>\n",
       "    <tr>\n",
       "      <th>Qatar</th>\n",
       "      <td>0.666667</td>\n",
       "      <td>1.666667</td>\n",
       "    </tr>\n",
       "    <tr>\n",
       "      <th>United States</th>\n",
       "      <td>1.000000</td>\n",
       "      <td>1.611111</td>\n",
       "    </tr>\n",
       "    <tr>\n",
       "      <th>Uruguay</th>\n",
       "      <td>1.542857</td>\n",
       "      <td>1.000000</td>\n",
       "    </tr>\n",
       "    <tr>\n",
       "      <th>Venezuela</th>\n",
       "      <td>0.742857</td>\n",
       "      <td>2.571429</td>\n",
       "    </tr>\n",
       "  </tbody>\n",
       "</table>\n",
       "</div>"
      ],
      "text/plain": [
       "               ScoredGoals  GoalsConceded\n",
       "Team                                     \n",
       "Argentina         1.861386       0.801980\n",
       "Bolivia           0.787500       2.100000\n",
       "Brazil            2.254717       0.754717\n",
       "Chile             1.547170       1.273585\n",
       "Colombia          1.138614       1.069307\n",
       "Costa Rica        1.000000       1.823529\n",
       "Ecuador           1.148649       1.797297\n",
       "Haiti             0.333333       4.000000\n",
       "Honduras          1.166667       0.833333\n",
       "Jamaica           0.000000       1.500000\n",
       "Japan             1.000000       2.500000\n",
       "Mexico            1.375000       1.291667\n",
       "Panama            1.333333       3.333333\n",
       "Paraguay          1.366337       1.554455\n",
       "Peru              1.391304       1.413043\n",
       "Qatar             0.666667       1.666667\n",
       "United States     1.000000       1.611111\n",
       "Uruguay           1.542857       1.000000\n",
       "Venezuela         0.742857       2.571429"
      ]
     },
     "execution_count": 6,
     "metadata": {},
     "output_type": "execute_result"
    }
   ],
   "source": [
    "#Concatenar df_home y df_away, hacer group por team y calulcar promedio\n",
    "df_team_strong = pd.concat([df_home, df_away], ignore_index = True).groupby(\"Team\").mean()\n",
    "df_team_strong"
   ]
  },
  {
   "cell_type": "code",
   "execution_count": 7,
   "id": "dd5eb719-5987-4d00-b3e9-949635ad2650",
   "metadata": {},
   "outputs": [],
   "source": [
    "#FUNCIÓN DE PREDICCIÓN DE PUNTOS"
   ]
  },
  {
   "cell_type": "code",
   "execution_count": 8,
   "id": "15fa5c8f-f707-4d3d-a8ba-2cdd0bbaa336",
   "metadata": {},
   "outputs": [],
   "source": [
    "def prediccion_puntos(home, away):\n",
    "    #si el equipo local y visitante están dentro de los dataframes entonces\n",
    "    if home in df_team_strong.index and away in df_team_strong.index:\n",
    "        #se calcula lambda multiplicando los goles en contra y a favor\n",
    "        home_lambda = df_team_strong.at[home,\"ScoredGoals\"] * df_team_strong.at[away,\"GoalsConceded\"]\n",
    "        away_lambda = df_team_strong.at[away,\"ScoredGoals\"] * df_team_strong.at[home,\"GoalsConceded\"]\n",
    "        #Variables de probabilidades\n",
    "        prob_home, prob_away, prob_draw = 0, 0, 0\n",
    "        for x in range(0,11): #rango de goles de local\n",
    "            for y in range(0,11): #rango de goles de visita\n",
    "                p = poisson.pmf(x, home_lambda) * poisson.pmf(y, away_lambda)\n",
    "                if x==y:\n",
    "                    prob_draw += p\n",
    "                elif x>y:\n",
    "                    prob_home += p\n",
    "                else:\n",
    "                    prob_away += p\n",
    "        points_home = 3 * prob_home + prob_draw\n",
    "        points_away = 3 * prob_away + prob_home\n",
    "        return(points_home, points_away)\n",
    "    else:\n",
    "        return(0,0)\n",
    "                    \n",
    "                \n",
    "                    "
   ]
  },
  {
   "cell_type": "code",
   "execution_count": 9,
   "id": "18317d51-fc84-4085-b0bc-dc78cf226ce7",
   "metadata": {},
   "outputs": [],
   "source": [
    "#TESTEAR FUNCIÓN\n"
   ]
  },
  {
   "cell_type": "code",
   "execution_count": 10,
   "id": "aef86fd8-8583-4273-88bb-8452a2bc0f28",
   "metadata": {},
   "outputs": [
    {
     "data": {
      "text/plain": [
       "(0.3882565657888843, 2.4551049239132166)"
      ]
     },
     "execution_count": 10,
     "metadata": {},
     "output_type": "execute_result"
    }
   ],
   "source": [
    "prediccion_puntos(\"Peru\", \"Brazil\")"
   ]
  },
  {
   "cell_type": "code",
   "execution_count": 11,
   "id": "762cd471-78d7-4eb4-8ac5-eb71673d54c0",
   "metadata": {},
   "outputs": [
    {
     "data": {
      "text/plain": [
       "(1.1290509021964836, 1.7132194441166906)"
      ]
     },
     "execution_count": 11,
     "metadata": {},
     "output_type": "execute_result"
    }
   ],
   "source": [
    "prediccion_puntos(\"Argentina\", \"Brazil\")"
   ]
  },
  {
   "cell_type": "code",
   "execution_count": 12,
   "id": "dec6f163-4858-4175-837f-a2558c857ebb",
   "metadata": {},
   "outputs": [],
   "source": [
    "#PREDICCIÓN DEL MUNDIAL"
   ]
  },
  {
   "cell_type": "code",
   "execution_count": 13,
   "id": "898b01a9-7bfe-470c-b55d-15425fe67759",
   "metadata": {},
   "outputs": [],
   "source": [
    "#GRUPOS"
   ]
  },
  {
   "cell_type": "code",
   "execution_count": 14,
   "id": "659ae42b-8224-4eec-aa1a-416bbc03d697",
   "metadata": {},
   "outputs": [],
   "source": [
    "df_fixture_group_48 = df_fixture[:24].copy()\n",
    "df_fixture_cuartos = df_fixture[24:28].copy()\n",
    "df_fixture_semifinal = df_fixture[28:30].copy()\n",
    "df_fixture_final = df_fixture[30:].copy()"
   ]
  },
  {
   "cell_type": "code",
   "execution_count": 15,
   "id": "1ee00b0c-5361-493a-a0df-0dca41f86cbc",
   "metadata": {},
   "outputs": [
    {
     "data": {
      "text/html": [
       "<div>\n",
       "<style scoped>\n",
       "    .dataframe tbody tr th:only-of-type {\n",
       "        vertical-align: middle;\n",
       "    }\n",
       "\n",
       "    .dataframe tbody tr th {\n",
       "        vertical-align: top;\n",
       "    }\n",
       "\n",
       "    .dataframe thead th {\n",
       "        text-align: right;\n",
       "    }\n",
       "</style>\n",
       "<table border=\"1\" class=\"dataframe\">\n",
       "  <thead>\n",
       "    <tr style=\"text-align: right;\">\n",
       "      <th></th>\n",
       "      <th>home</th>\n",
       "      <th>score</th>\n",
       "      <th>away</th>\n",
       "      <th>years_america</th>\n",
       "    </tr>\n",
       "  </thead>\n",
       "  <tbody>\n",
       "    <tr>\n",
       "      <th>30</th>\n",
       "      <td>Loser Match 29</td>\n",
       "      <td>Match 31</td>\n",
       "      <td>Loser Match 30</td>\n",
       "      <td>2024</td>\n",
       "    </tr>\n",
       "    <tr>\n",
       "      <th>31</th>\n",
       "      <td>Winner Match 29</td>\n",
       "      <td>Match 32</td>\n",
       "      <td>Winner Match 30</td>\n",
       "      <td>2024</td>\n",
       "    </tr>\n",
       "  </tbody>\n",
       "</table>\n",
       "</div>"
      ],
      "text/plain": [
       "               home     score             away  years_america\n",
       "30   Loser Match 29  Match 31   Loser Match 30           2024\n",
       "31  Winner Match 29  Match 32  Winner Match 30           2024"
      ]
     },
     "execution_count": 15,
     "metadata": {},
     "output_type": "execute_result"
    }
   ],
   "source": [
    "df_fixture_final"
   ]
  },
  {
   "cell_type": "code",
   "execution_count": 16,
   "id": "754d4ad2-1536-4d49-bec8-86ccda4b85f4",
   "metadata": {},
   "outputs": [],
   "source": [
    "#Cambiar los nombres delos países en acento latino a inglés"
   ]
  },
  {
   "cell_type": "code",
   "execution_count": 17,
   "id": "2abe87db-ab15-49a5-a925-a0ff9223e29f",
   "metadata": {},
   "outputs": [
    {
     "data": {
      "text/plain": [
       "{'Grupo A':         País  Pts.  PJ  PG  PE  PP  GF  GC  Dif.\n",
       " 0  Argentina     0   0   0   0   0   0   0     0\n",
       " 1       Peru     0   0   0   0   0   0   0     0\n",
       " 2      Chile     0   0   0   0   0   0   0     0\n",
       " 3     Canadá     0   0   0   0   0   0   0     0,\n",
       " 'Grupo B':         País  Pts.  PJ  PG  PE  PP  GF  GC  Dif.\n",
       " 0     Mexico     0   0   0   0   0   0   0     0\n",
       " 1    Ecuador     0   0   0   0   0   0   0     0\n",
       " 2  Venezuela     0   0   0   0   0   0   0     0\n",
       " 3    Jamaica     0   0   0   0   0   0   0     0,\n",
       " 'Grupo C':             País  Pts.  PJ  PG  PE  PP  GF  GC  Dif.\n",
       " 0  United States     0   0   0   0   0   0   0     0\n",
       " 1        Uruguay     0   0   0   0   0   0   0     0\n",
       " 2         Panama     0   0   0   0   0   0   0     0\n",
       " 3        Bolivia     0   0   0   0   0   0   0     0,\n",
       " 'Grupo D':          País  Pts.  PJ  PG  PE  PP  GF  GC  Dif.\n",
       " 0      Brazil     0   0   0   0   0   0   0     0\n",
       " 1    Colombia     0   0   0   0   0   0   0     0\n",
       " 2    Paraguay     0   0   0   0   0   0   0     0\n",
       " 3  Costa Rica     0   0   0   0   0   0   0     0}"
      ]
     },
     "execution_count": 17,
     "metadata": {},
     "output_type": "execute_result"
    }
   ],
   "source": [
    "for group in dict_table:\n",
    "    dict_table[group]['País'] = dict_table[group]['País'].replace('Perú', 'Peru')\n",
    "    dict_table[group]['País'] = dict_table[group]['País'].replace('Brasil', 'Brazil')\n",
    "    dict_table[group]['País'] = dict_table[group]['País'].replace('México', 'Mexico')\n",
    "    dict_table[group]['País'] = dict_table[group]['País'].replace('Estados Unidos', 'United States')\n",
    "    dict_table[group]['País'] = dict_table[group]['País'].replace('Panamá', 'Panama')\n",
    "\n",
    "# Verifica el cambio\n",
    "dict_table"
   ]
  },
  {
   "cell_type": "code",
   "execution_count": 18,
   "id": "8859f465-3e27-484f-89da-3f6134fbb874",
   "metadata": {},
   "outputs": [],
   "source": [
    "#Correr todos los partidos de las fases de grupos y actualizar las tablas\n"
   ]
  },
  {
   "cell_type": "code",
   "execution_count": 19,
   "id": "134c0616-2cb3-497b-86b8-50db95407ca6",
   "metadata": {},
   "outputs": [],
   "source": [
    "for group in dict_table:\n",
    "    teams_in_group = dict_table[group][\"País\"].values\n",
    "    #cada grupo tiene 6 partidos, agrupamos los partido de 6 en 6 para la simulación\n",
    "    df_fixture_group_6 = df_fixture_group_48[df_fixture_group_48[\"home\"].isin(teams_in_group)]\n",
    "    for index, row in df_fixture_group_6.iterrows():\n",
    "        home, away = row[\"home\"], row[\"away\"]\n",
    "        points_home, points_away = prediccion_puntos(home, away)\n",
    "        dict_table[group].loc[dict_table[group][\"País\"] == home, \"Pts.\"] += int(points_home)\n",
    "        dict_table[group].loc[dict_table[group][\"País\"] == away, \"Pts.\"] += int(points_away)\n",
    "        \n",
    "    dict_table[group] = dict_table[group].sort_values(\"Pts.\", ascending=False).reset_index()\n",
    "    dict_table[group] = dict_table[group][[\"País\", \"Pts.\"]]\n",
    "    dict_table[group] = dict_table[group].round(0)"
   ]
  },
  {
   "cell_type": "code",
   "execution_count": 20,
   "id": "43838cec-73dc-4667-ae1a-e5f1ca2fb853",
   "metadata": {},
   "outputs": [
    {
     "data": {
      "text/plain": [
       "{'Group A':         País  Pts.\n",
       " 0  Argentina     4\n",
       " 1       Peru     2\n",
       " 2      Chile     1\n",
       " 3     Canadá     0,\n",
       " 'Group B':         País  Pts.\n",
       " 0     Mexico     5\n",
       " 1    Ecuador     5\n",
       " 2  Venezuela     3\n",
       " 3    Jamaica     0,\n",
       " 'Group C':             País  Pts.\n",
       " 0        Uruguay     6\n",
       " 1  United States     3\n",
       " 2        Bolivia     3\n",
       " 3         Panama     2,\n",
       " 'Group D':          País  Pts.\n",
       " 0      Brazil     6\n",
       " 1    Colombia     4\n",
       " 2    Paraguay     2\n",
       " 3  Costa Rica     1}"
      ]
     },
     "execution_count": 20,
     "metadata": {},
     "output_type": "execute_result"
    }
   ],
   "source": [
    "#CAMBIANDO LOS NOMBRES DE LOS GRUPOS A INGLÉS \n",
    "new_titles = {\n",
    "    'Grupo A': 'Group A',\n",
    "    'Grupo B': 'Group B',\n",
    "    'Grupo C': 'Group C',\n",
    "    'Grupo D': 'Group D'\n",
    "}\n",
    "dict_table = {new_titles[key]: value for key, value in dict_table.items()}\n",
    "dict_table"
   ]
  },
  {
   "cell_type": "code",
   "execution_count": 21,
   "id": "e7b3d624-e68e-48f5-abd5-411d02617be1",
   "metadata": {},
   "outputs": [],
   "source": [
    "#OCTAVOS"
   ]
  },
  {
   "cell_type": "code",
   "execution_count": 22,
   "id": "9959b63c-f6c5-48c7-9571-375c09a4ea3a",
   "metadata": {},
   "outputs": [],
   "source": [
    "#SE ACTUALIZA EL DICCIONARIO CON LOS GANADORES DE LA FASE DE GRUPOS"
   ]
  },
  {
   "cell_type": "code",
   "execution_count": 23,
   "id": "567bc19f-72d6-406f-a850-f597287db2eb",
   "metadata": {},
   "outputs": [],
   "source": [
    "for group in dict_table:\n",
    "    group_winner = dict_table[group].loc[0,\"País\"]\n",
    "    runners_up = dict_table[group].loc[1,\"País\"]\n",
    "    df_fixture_cuartos.replace({f\"Winner {group}\": group_winner, f\"Runner-up {group}\": runners_up}, inplace=True)\n",
    "\n",
    "df_fixture_cuartos[\"Winner\"] = \"?\""
   ]
  },
  {
   "cell_type": "code",
   "execution_count": 24,
   "id": "bdadb2de-2cd9-440c-823f-9ecde3b7de66",
   "metadata": {},
   "outputs": [
    {
     "data": {
      "text/html": [
       "<div>\n",
       "<style scoped>\n",
       "    .dataframe tbody tr th:only-of-type {\n",
       "        vertical-align: middle;\n",
       "    }\n",
       "\n",
       "    .dataframe tbody tr th {\n",
       "        vertical-align: top;\n",
       "    }\n",
       "\n",
       "    .dataframe thead th {\n",
       "        text-align: right;\n",
       "    }\n",
       "</style>\n",
       "<table border=\"1\" class=\"dataframe\">\n",
       "  <thead>\n",
       "    <tr style=\"text-align: right;\">\n",
       "      <th></th>\n",
       "      <th>home</th>\n",
       "      <th>score</th>\n",
       "      <th>away</th>\n",
       "      <th>years_america</th>\n",
       "      <th>Winner</th>\n",
       "    </tr>\n",
       "  </thead>\n",
       "  <tbody>\n",
       "    <tr>\n",
       "      <th>24</th>\n",
       "      <td>Argentina</td>\n",
       "      <td>Match 25</td>\n",
       "      <td>Ecuador</td>\n",
       "      <td>2024</td>\n",
       "      <td>?</td>\n",
       "    </tr>\n",
       "    <tr>\n",
       "      <th>25</th>\n",
       "      <td>Mexico</td>\n",
       "      <td>Match 26</td>\n",
       "      <td>Peru</td>\n",
       "      <td>2024</td>\n",
       "      <td>?</td>\n",
       "    </tr>\n",
       "    <tr>\n",
       "      <th>26</th>\n",
       "      <td>Uruguay</td>\n",
       "      <td>Match 27</td>\n",
       "      <td>Colombia</td>\n",
       "      <td>2024</td>\n",
       "      <td>?</td>\n",
       "    </tr>\n",
       "    <tr>\n",
       "      <th>27</th>\n",
       "      <td>Brazil</td>\n",
       "      <td>Match 28</td>\n",
       "      <td>United States</td>\n",
       "      <td>2024</td>\n",
       "      <td>?</td>\n",
       "    </tr>\n",
       "  </tbody>\n",
       "</table>\n",
       "</div>"
      ],
      "text/plain": [
       "         home     score           away  years_america Winner\n",
       "24  Argentina  Match 25        Ecuador           2024      ?\n",
       "25     Mexico  Match 26           Peru           2024      ?\n",
       "26    Uruguay  Match 27       Colombia           2024      ?\n",
       "27     Brazil  Match 28  United States           2024      ?"
      ]
     },
     "execution_count": 24,
     "metadata": {},
     "output_type": "execute_result"
    }
   ],
   "source": [
    "df_fixture_cuartos"
   ]
  },
  {
   "cell_type": "code",
   "execution_count": 25,
   "id": "a8514282-7564-45a6-87bf-8d1642261765",
   "metadata": {},
   "outputs": [],
   "source": [
    "#PREDICCIÓN DE CUARTOS DE FINAL"
   ]
  },
  {
   "cell_type": "code",
   "execution_count": 26,
   "id": "7dbde0a7-3e01-41f3-9d55-88caf7e2dadf",
   "metadata": {},
   "outputs": [],
   "source": [
    "def get_winner(df_fixture_update):\n",
    "    for index, row in df_fixture_update.iterrows():\n",
    "        home, away = row[\"home\"],row[\"away\"]\n",
    "        points_home, points_away = prediccion_puntos(home, away)\n",
    "        if points_home > points_away:\n",
    "            winner = home\n",
    "        else:\n",
    "            winner = away\n",
    "        df_fixture_update.loc[index, \"Winner\"] = winner\n",
    "    return df_fixture_update"
   ]
  },
  {
   "cell_type": "code",
   "execution_count": 27,
   "id": "3ebb48da-51bd-4455-b82d-bea4c3ae58ee",
   "metadata": {},
   "outputs": [
    {
     "data": {
      "text/html": [
       "<div>\n",
       "<style scoped>\n",
       "    .dataframe tbody tr th:only-of-type {\n",
       "        vertical-align: middle;\n",
       "    }\n",
       "\n",
       "    .dataframe tbody tr th {\n",
       "        vertical-align: top;\n",
       "    }\n",
       "\n",
       "    .dataframe thead th {\n",
       "        text-align: right;\n",
       "    }\n",
       "</style>\n",
       "<table border=\"1\" class=\"dataframe\">\n",
       "  <thead>\n",
       "    <tr style=\"text-align: right;\">\n",
       "      <th></th>\n",
       "      <th>home</th>\n",
       "      <th>score</th>\n",
       "      <th>away</th>\n",
       "      <th>years_america</th>\n",
       "      <th>Winner</th>\n",
       "    </tr>\n",
       "  </thead>\n",
       "  <tbody>\n",
       "    <tr>\n",
       "      <th>24</th>\n",
       "      <td>Argentina</td>\n",
       "      <td>Match 25</td>\n",
       "      <td>Ecuador</td>\n",
       "      <td>2024</td>\n",
       "      <td>Argentina</td>\n",
       "    </tr>\n",
       "    <tr>\n",
       "      <th>25</th>\n",
       "      <td>Mexico</td>\n",
       "      <td>Match 26</td>\n",
       "      <td>Peru</td>\n",
       "      <td>2024</td>\n",
       "      <td>Peru</td>\n",
       "    </tr>\n",
       "    <tr>\n",
       "      <th>26</th>\n",
       "      <td>Uruguay</td>\n",
       "      <td>Match 27</td>\n",
       "      <td>Colombia</td>\n",
       "      <td>2024</td>\n",
       "      <td>Uruguay</td>\n",
       "    </tr>\n",
       "    <tr>\n",
       "      <th>27</th>\n",
       "      <td>Brazil</td>\n",
       "      <td>Match 28</td>\n",
       "      <td>United States</td>\n",
       "      <td>2024</td>\n",
       "      <td>Brazil</td>\n",
       "    </tr>\n",
       "  </tbody>\n",
       "</table>\n",
       "</div>"
      ],
      "text/plain": [
       "         home     score           away  years_america     Winner\n",
       "24  Argentina  Match 25        Ecuador           2024  Argentina\n",
       "25     Mexico  Match 26           Peru           2024       Peru\n",
       "26    Uruguay  Match 27       Colombia           2024    Uruguay\n",
       "27     Brazil  Match 28  United States           2024     Brazil"
      ]
     },
     "execution_count": 27,
     "metadata": {},
     "output_type": "execute_result"
    }
   ],
   "source": [
    "get_winner(df_fixture_cuartos)"
   ]
  },
  {
   "cell_type": "code",
   "execution_count": 28,
   "id": "c2f52195-1b6e-4e42-945f-7b4f1deb070f",
   "metadata": {},
   "outputs": [],
   "source": [
    "#Actualizar la tabla\n",
    "#round 1 es antiguo y round 2 el nuevo\n",
    "def update_table(df_fíxture_round_1, df_fixture_round_2):\n",
    "    for index, row in df_fíxture_round_1.iterrows():\n",
    "        winner = df_fíxture_round_1.loc[index, \"Winner\"]\n",
    "        match = df_fíxture_round_1.loc[index, \"score\"]\n",
    "        df_fixture_round_2.replace({f\"Winner {match}\": winner}, inplace=True)\n",
    "    df_fixture_round_2['winner'] = \"?\"\n",
    "    return df_fixture_round_2\n"
   ]
  },
  {
   "cell_type": "code",
   "execution_count": 29,
   "id": "0f5d9432-f5eb-45bd-81f2-a91982de7562",
   "metadata": {},
   "outputs": [
    {
     "data": {
      "text/html": [
       "<div>\n",
       "<style scoped>\n",
       "    .dataframe tbody tr th:only-of-type {\n",
       "        vertical-align: middle;\n",
       "    }\n",
       "\n",
       "    .dataframe tbody tr th {\n",
       "        vertical-align: top;\n",
       "    }\n",
       "\n",
       "    .dataframe thead th {\n",
       "        text-align: right;\n",
       "    }\n",
       "</style>\n",
       "<table border=\"1\" class=\"dataframe\">\n",
       "  <thead>\n",
       "    <tr style=\"text-align: right;\">\n",
       "      <th></th>\n",
       "      <th>home</th>\n",
       "      <th>score</th>\n",
       "      <th>away</th>\n",
       "      <th>years_america</th>\n",
       "      <th>winner</th>\n",
       "    </tr>\n",
       "  </thead>\n",
       "  <tbody>\n",
       "    <tr>\n",
       "      <th>28</th>\n",
       "      <td>Argentina</td>\n",
       "      <td>Match 29</td>\n",
       "      <td>Peru</td>\n",
       "      <td>2024</td>\n",
       "      <td>?</td>\n",
       "    </tr>\n",
       "    <tr>\n",
       "      <th>29</th>\n",
       "      <td>Uruguay</td>\n",
       "      <td>Match 30</td>\n",
       "      <td>Brazil</td>\n",
       "      <td>2024</td>\n",
       "      <td>?</td>\n",
       "    </tr>\n",
       "  </tbody>\n",
       "</table>\n",
       "</div>"
      ],
      "text/plain": [
       "         home     score    away  years_america winner\n",
       "28  Argentina  Match 29    Peru           2024      ?\n",
       "29    Uruguay  Match 30  Brazil           2024      ?"
      ]
     },
     "execution_count": 29,
     "metadata": {},
     "output_type": "execute_result"
    }
   ],
   "source": [
    "#Actualizando la tabla semifinal\n",
    "update_table(df_fixture_cuartos, df_fixture_semifinal)"
   ]
  },
  {
   "cell_type": "code",
   "execution_count": 30,
   "id": "57abaf72-2cd7-41d5-8a26-9a4e1862f340",
   "metadata": {},
   "outputs": [
    {
     "data": {
      "text/html": [
       "<div>\n",
       "<style scoped>\n",
       "    .dataframe tbody tr th:only-of-type {\n",
       "        vertical-align: middle;\n",
       "    }\n",
       "\n",
       "    .dataframe tbody tr th {\n",
       "        vertical-align: top;\n",
       "    }\n",
       "\n",
       "    .dataframe thead th {\n",
       "        text-align: right;\n",
       "    }\n",
       "</style>\n",
       "<table border=\"1\" class=\"dataframe\">\n",
       "  <thead>\n",
       "    <tr style=\"text-align: right;\">\n",
       "      <th></th>\n",
       "      <th>home</th>\n",
       "      <th>score</th>\n",
       "      <th>away</th>\n",
       "      <th>years_america</th>\n",
       "      <th>winner</th>\n",
       "      <th>Winner</th>\n",
       "    </tr>\n",
       "  </thead>\n",
       "  <tbody>\n",
       "    <tr>\n",
       "      <th>28</th>\n",
       "      <td>Argentina</td>\n",
       "      <td>Match 29</td>\n",
       "      <td>Peru</td>\n",
       "      <td>2024</td>\n",
       "      <td>?</td>\n",
       "      <td>Argentina</td>\n",
       "    </tr>\n",
       "    <tr>\n",
       "      <th>29</th>\n",
       "      <td>Uruguay</td>\n",
       "      <td>Match 30</td>\n",
       "      <td>Brazil</td>\n",
       "      <td>2024</td>\n",
       "      <td>?</td>\n",
       "      <td>Brazil</td>\n",
       "    </tr>\n",
       "  </tbody>\n",
       "</table>\n",
       "</div>"
      ],
      "text/plain": [
       "         home     score    away  years_america winner     Winner\n",
       "28  Argentina  Match 29    Peru           2024      ?  Argentina\n",
       "29    Uruguay  Match 30  Brazil           2024      ?     Brazil"
      ]
     },
     "execution_count": 30,
     "metadata": {},
     "output_type": "execute_result"
    }
   ],
   "source": [
    "#APrediciendo lo SEMIFINAL\n",
    "get_winner(df_fixture_semifinal)"
   ]
  },
  {
   "cell_type": "code",
   "execution_count": 31,
   "id": "784ca9e8-6f25-4afc-8405-5594bfb9558d",
   "metadata": {},
   "outputs": [
    {
     "data": {
      "text/html": [
       "<div>\n",
       "<style scoped>\n",
       "    .dataframe tbody tr th:only-of-type {\n",
       "        vertical-align: middle;\n",
       "    }\n",
       "\n",
       "    .dataframe tbody tr th {\n",
       "        vertical-align: top;\n",
       "    }\n",
       "\n",
       "    .dataframe thead th {\n",
       "        text-align: right;\n",
       "    }\n",
       "</style>\n",
       "<table border=\"1\" class=\"dataframe\">\n",
       "  <thead>\n",
       "    <tr style=\"text-align: right;\">\n",
       "      <th></th>\n",
       "      <th>home</th>\n",
       "      <th>score</th>\n",
       "      <th>away</th>\n",
       "      <th>years_america</th>\n",
       "      <th>winner</th>\n",
       "    </tr>\n",
       "  </thead>\n",
       "  <tbody>\n",
       "    <tr>\n",
       "      <th>30</th>\n",
       "      <td>Loser Match 29</td>\n",
       "      <td>Match 31</td>\n",
       "      <td>Loser Match 30</td>\n",
       "      <td>2024</td>\n",
       "      <td>?</td>\n",
       "    </tr>\n",
       "    <tr>\n",
       "      <th>31</th>\n",
       "      <td>Argentina</td>\n",
       "      <td>Match 32</td>\n",
       "      <td>Brazil</td>\n",
       "      <td>2024</td>\n",
       "      <td>?</td>\n",
       "    </tr>\n",
       "  </tbody>\n",
       "</table>\n",
       "</div>"
      ],
      "text/plain": [
       "              home     score            away  years_america winner\n",
       "30  Loser Match 29  Match 31  Loser Match 30           2024      ?\n",
       "31       Argentina  Match 32          Brazil           2024      ?"
      ]
     },
     "execution_count": 31,
     "metadata": {},
     "output_type": "execute_result"
    }
   ],
   "source": [
    "update_table(df_fixture_semifinal, df_fixture_final)"
   ]
  },
  {
   "cell_type": "code",
   "execution_count": 32,
   "id": "61d6a5ee-59a7-4d58-af92-dcf56183689f",
   "metadata": {},
   "outputs": [
    {
     "data": {
      "text/html": [
       "<div>\n",
       "<style scoped>\n",
       "    .dataframe tbody tr th:only-of-type {\n",
       "        vertical-align: middle;\n",
       "    }\n",
       "\n",
       "    .dataframe tbody tr th {\n",
       "        vertical-align: top;\n",
       "    }\n",
       "\n",
       "    .dataframe thead th {\n",
       "        text-align: right;\n",
       "    }\n",
       "</style>\n",
       "<table border=\"1\" class=\"dataframe\">\n",
       "  <thead>\n",
       "    <tr style=\"text-align: right;\">\n",
       "      <th></th>\n",
       "      <th>home</th>\n",
       "      <th>score</th>\n",
       "      <th>away</th>\n",
       "      <th>years_america</th>\n",
       "      <th>winner</th>\n",
       "      <th>Winner</th>\n",
       "    </tr>\n",
       "  </thead>\n",
       "  <tbody>\n",
       "    <tr>\n",
       "      <th>30</th>\n",
       "      <td>Loser Match 29</td>\n",
       "      <td>Match 31</td>\n",
       "      <td>Loser Match 30</td>\n",
       "      <td>2024</td>\n",
       "      <td>?</td>\n",
       "      <td>Loser Match 30</td>\n",
       "    </tr>\n",
       "    <tr>\n",
       "      <th>31</th>\n",
       "      <td>Argentina</td>\n",
       "      <td>Match 32</td>\n",
       "      <td>Brazil</td>\n",
       "      <td>2024</td>\n",
       "      <td>?</td>\n",
       "      <td>Brazil</td>\n",
       "    </tr>\n",
       "  </tbody>\n",
       "</table>\n",
       "</div>"
      ],
      "text/plain": [
       "              home     score            away  years_america winner  \\\n",
       "30  Loser Match 29  Match 31  Loser Match 30           2024      ?   \n",
       "31       Argentina  Match 32          Brazil           2024      ?   \n",
       "\n",
       "            Winner  \n",
       "30  Loser Match 30  \n",
       "31          Brazil  "
      ]
     },
     "execution_count": 32,
     "metadata": {},
     "output_type": "execute_result"
    }
   ],
   "source": [
    "get_winner(df_fixture_final)"
   ]
  },
  {
   "cell_type": "code",
   "execution_count": null,
   "id": "657ede50-e84a-4e50-a882-e5a7b52416f0",
   "metadata": {},
   "outputs": [],
   "source": []
  }
 ],
 "metadata": {
  "kernelspec": {
   "display_name": "Python 3 (ipykernel)",
   "language": "python",
   "name": "python3"
  },
  "language_info": {
   "codemirror_mode": {
    "name": "ipython",
    "version": 3
   },
   "file_extension": ".py",
   "mimetype": "text/x-python",
   "name": "python",
   "nbconvert_exporter": "python",
   "pygments_lexer": "ipython3",
   "version": "3.11.7"
  }
 },
 "nbformat": 4,
 "nbformat_minor": 5
}
